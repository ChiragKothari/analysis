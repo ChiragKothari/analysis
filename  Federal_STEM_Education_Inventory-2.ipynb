{
 "cells": [
  {
   "cell_type": "code",
   "execution_count": 2,
   "metadata": {},
   "outputs": [],
   "source": [
    "import numpy as np\n",
    "import pandas as pd\n",
    "import matplotlib.pyplot as plt\n",
    "from sklearn.model_selection import train_test_split\n",
    "from sklearn.metrics import accuracy_score, roc_auc_score\n",
    "from sklearn.preprocessing import LabelEncoder, StandardScaler\n",
    "from sklearn.decomposition import PCA\n",
    "from sklearn.feature_selection import SelectKBest, chi2, SelectFromModel\n",
    "from xgboost import XGBClassifier, plot_importance"
   ]
  },
  {
   "cell_type": "code",
   "execution_count": 3,
   "metadata": {
    "collapsed": true
   },
   "outputs": [
    {
     "data": {
      "text/html": [
       "<div>\n",
       "<style scoped>\n",
       "    .dataframe tbody tr th:only-of-type {\n",
       "        vertical-align: middle;\n",
       "    }\n",
       "\n",
       "    .dataframe tbody tr th {\n",
       "        vertical-align: top;\n",
       "    }\n",
       "\n",
       "    .dataframe thead th {\n",
       "        text-align: right;\n",
       "    }\n",
       "</style>\n",
       "<table border=\"1\" class=\"dataframe\">\n",
       "  <thead>\n",
       "    <tr style=\"text-align: right;\">\n",
       "      <th></th>\n",
       "      <th>Index Number</th>\n",
       "      <th>Investment Name</th>\n",
       "      <th>Agency</th>\n",
       "      <th>Subagency</th>\n",
       "      <th>A) Brief Description</th>\n",
       "      <th>B) Year Established</th>\n",
       "      <th>C1) Funding FY2008</th>\n",
       "      <th>C2) Funding FY2009</th>\n",
       "      <th>C3) Funding FY2010</th>\n",
       "      <th>D) Mission-specific or General STEM?</th>\n",
       "      <th>...</th>\n",
       "      <th>Y3) Process or Implementation Evaluation Type</th>\n",
       "      <th>Unnamed: 249</th>\n",
       "      <th>Unnamed: 250</th>\n",
       "      <th>Y4) Portfolio Evaluation/Review Type</th>\n",
       "      <th>Unnamed: 252</th>\n",
       "      <th>Unnamed: 253</th>\n",
       "      <th>Y5) Expert Review Type</th>\n",
       "      <th>Unnamed: 255</th>\n",
       "      <th>%growth</th>\n",
       "      <th>target</th>\n",
       "    </tr>\n",
       "  </thead>\n",
       "  <tbody>\n",
       "    <tr>\n",
       "      <th>0</th>\n",
       "      <td>PRG_0001</td>\n",
       "      <td>Centers for Ocean Sciences Education Excellence ~</td>\n",
       "      <td>National Science Foundation</td>\n",
       "      <td>Directorate for Geosciences (GEO)</td>\n",
       "      <td>The Division of Ocean Sciences seeks to establ...</td>\n",
       "      <td>2002.0</td>\n",
       "      <td>5.24</td>\n",
       "      <td>7.19</td>\n",
       "      <td>5.70</td>\n",
       "      <td>General STEM</td>\n",
       "      <td>...</td>\n",
       "      <td>NaN</td>\n",
       "      <td>NaN</td>\n",
       "      <td>NO</td>\n",
       "      <td>INDEPENDENT</td>\n",
       "      <td>NaN</td>\n",
       "      <td>NaN</td>\n",
       "      <td>INDEPENDENT</td>\n",
       "      <td>NaN</td>\n",
       "      <td>0.372137</td>\n",
       "      <td>1</td>\n",
       "    </tr>\n",
       "    <tr>\n",
       "      <th>1</th>\n",
       "      <td>PRG_0002</td>\n",
       "      <td>Broadening Participation in Computing (BPC)</td>\n",
       "      <td>National Science Foundation</td>\n",
       "      <td>Directorate for Computer &amp; Information Science...</td>\n",
       "      <td>The BPC Program was not primarily aimed at edu...</td>\n",
       "      <td>2006.0</td>\n",
       "      <td>14.00</td>\n",
       "      <td>14.00</td>\n",
       "      <td>14.00</td>\n",
       "      <td>General STEM</td>\n",
       "      <td>...</td>\n",
       "      <td>NaN</td>\n",
       "      <td>NaN</td>\n",
       "      <td>NO</td>\n",
       "      <td>NaN</td>\n",
       "      <td>NaN</td>\n",
       "      <td>NO</td>\n",
       "      <td>NaN</td>\n",
       "      <td>NaN</td>\n",
       "      <td>0.000000</td>\n",
       "      <td>1</td>\n",
       "    </tr>\n",
       "    <tr>\n",
       "      <th>2</th>\n",
       "      <td>PRG_0003</td>\n",
       "      <td>CISE Pathways to Revitalized Undergraduate Com...</td>\n",
       "      <td>National Science Foundation</td>\n",
       "      <td>Directorate for Computer &amp; Information Science...</td>\n",
       "      <td>Through the CISE Pathways to Revitalized Under...</td>\n",
       "      <td>2007.0</td>\n",
       "      <td>5.00</td>\n",
       "      <td>5.00</td>\n",
       "      <td>4.37</td>\n",
       "      <td>General STEM</td>\n",
       "      <td>...</td>\n",
       "      <td>NaN</td>\n",
       "      <td>NaN</td>\n",
       "      <td>NO</td>\n",
       "      <td>NaN</td>\n",
       "      <td>NaN</td>\n",
       "      <td>NO</td>\n",
       "      <td>NaN</td>\n",
       "      <td>NaN</td>\n",
       "      <td>0.000000</td>\n",
       "      <td>1</td>\n",
       "    </tr>\n",
       "    <tr>\n",
       "      <th>3</th>\n",
       "      <td>PRG_0004</td>\n",
       "      <td>Opportunities for Enhancing Diversity in the G...</td>\n",
       "      <td>National Science Foundation</td>\n",
       "      <td>Directorate for Geosciences (GEO)</td>\n",
       "      <td>The Opportunities for Enhancing Diversity in t...</td>\n",
       "      <td>2002.0</td>\n",
       "      <td>4.57</td>\n",
       "      <td>11.79</td>\n",
       "      <td>4.18</td>\n",
       "      <td>General STEM</td>\n",
       "      <td>...</td>\n",
       "      <td>INDEPENDENT</td>\n",
       "      <td>NaN</td>\n",
       "      <td>NaN</td>\n",
       "      <td>INDEPENDENT</td>\n",
       "      <td>NaN</td>\n",
       "      <td>NaN</td>\n",
       "      <td>INDEPENDENT</td>\n",
       "      <td>NaN</td>\n",
       "      <td>1.579869</td>\n",
       "      <td>1</td>\n",
       "    </tr>\n",
       "    <tr>\n",
       "      <th>4</th>\n",
       "      <td>PRG_0005</td>\n",
       "      <td>Geoscience Education</td>\n",
       "      <td>National Science Foundation</td>\n",
       "      <td>Directorate for Geosciences (GEO)</td>\n",
       "      <td>The Geoscience Education (GeoEd) program is fo...</td>\n",
       "      <td>1999.0</td>\n",
       "      <td>1.63</td>\n",
       "      <td>2.74</td>\n",
       "      <td>2.02</td>\n",
       "      <td>General STEM</td>\n",
       "      <td>...</td>\n",
       "      <td>NaN</td>\n",
       "      <td>NaN</td>\n",
       "      <td>NO</td>\n",
       "      <td>NaN</td>\n",
       "      <td>NaN</td>\n",
       "      <td>NO</td>\n",
       "      <td>NaN</td>\n",
       "      <td>NaN</td>\n",
       "      <td>0.680982</td>\n",
       "      <td>1</td>\n",
       "    </tr>\n",
       "  </tbody>\n",
       "</table>\n",
       "<p>5 rows × 258 columns</p>\n",
       "</div>"
      ],
      "text/plain": [
       "  Index Number                                    Investment Name  \\\n",
       "0     PRG_0001  Centers for Ocean Sciences Education Excellence ~   \n",
       "1     PRG_0002        Broadening Participation in Computing (BPC)   \n",
       "2     PRG_0003  CISE Pathways to Revitalized Undergraduate Com...   \n",
       "3     PRG_0004  Opportunities for Enhancing Diversity in the G...   \n",
       "4     PRG_0005                               Geoscience Education   \n",
       "\n",
       "                        Agency  \\\n",
       "0  National Science Foundation   \n",
       "1  National Science Foundation   \n",
       "2  National Science Foundation   \n",
       "3  National Science Foundation   \n",
       "4  National Science Foundation   \n",
       "\n",
       "                                           Subagency  \\\n",
       "0                  Directorate for Geosciences (GEO)   \n",
       "1  Directorate for Computer & Information Science...   \n",
       "2  Directorate for Computer & Information Science...   \n",
       "3                  Directorate for Geosciences (GEO)   \n",
       "4                  Directorate for Geosciences (GEO)   \n",
       "\n",
       "                                A) Brief Description  B) Year Established  \\\n",
       "0  The Division of Ocean Sciences seeks to establ...               2002.0   \n",
       "1  The BPC Program was not primarily aimed at edu...               2006.0   \n",
       "2  Through the CISE Pathways to Revitalized Under...               2007.0   \n",
       "3  The Opportunities for Enhancing Diversity in t...               2002.0   \n",
       "4  The Geoscience Education (GeoEd) program is fo...               1999.0   \n",
       "\n",
       "   C1) Funding FY2008  C2) Funding FY2009  C3) Funding FY2010  \\\n",
       "0                5.24                7.19                5.70   \n",
       "1               14.00               14.00               14.00   \n",
       "2                5.00                5.00                4.37   \n",
       "3                4.57               11.79                4.18   \n",
       "4                1.63                2.74                2.02   \n",
       "\n",
       "  D) Mission-specific or General STEM?  ...    \\\n",
       "0                         General STEM  ...     \n",
       "1                         General STEM  ...     \n",
       "2                         General STEM  ...     \n",
       "3                         General STEM  ...     \n",
       "4                         General STEM  ...     \n",
       "\n",
       "  Y3) Process or Implementation Evaluation Type Unnamed: 249 Unnamed: 250  \\\n",
       "0                                           NaN          NaN           NO   \n",
       "1                                           NaN          NaN           NO   \n",
       "2                                           NaN          NaN           NO   \n",
       "3                                   INDEPENDENT          NaN          NaN   \n",
       "4                                           NaN          NaN           NO   \n",
       "\n",
       "  Y4) Portfolio Evaluation/Review Type Unnamed: 252 Unnamed: 253  \\\n",
       "0                          INDEPENDENT          NaN          NaN   \n",
       "1                                  NaN          NaN           NO   \n",
       "2                                  NaN          NaN           NO   \n",
       "3                          INDEPENDENT          NaN          NaN   \n",
       "4                                  NaN          NaN           NO   \n",
       "\n",
       "  Y5) Expert Review Type Unnamed: 255   %growth target  \n",
       "0            INDEPENDENT          NaN  0.372137      1  \n",
       "1                    NaN          NaN  0.000000      1  \n",
       "2                    NaN          NaN  0.000000      1  \n",
       "3            INDEPENDENT          NaN  1.579869      1  \n",
       "4                    NaN          NaN  0.680982      1  \n",
       "\n",
       "[5 rows x 258 columns]"
      ]
     },
     "execution_count": 3,
     "metadata": {},
     "output_type": "execute_result"
    }
   ],
   "source": [
    "df = pd.read_excel(r'''C:\\Users\\Administrator\\Downloads\\2010 Federal STEM Education Inventory Data Set.xls''', header = 1)\n",
    "df = df.drop(index = 252)\n",
    "df['C1) Funding FY2008'] = df['C1) Funding FY2008'].fillna(0)\n",
    "df['C2) Funding FY2009'] = df['C2) Funding FY2009'].fillna(0)\n",
    "df['%growth'] = (df['C2) Funding FY2009'] - df['C1) Funding FY2008']) / df['C1) Funding FY2008']\n",
    "df['target'] = np.where(df['%growth'] >= 0, 1, 0)\n",
    "df.head()"
   ]
  },
  {
   "cell_type": "code",
   "execution_count": 4,
   "metadata": {},
   "outputs": [],
   "source": [
    "X = df.drop(columns = {'Index Number', 'Investment Name', 'A) Brief Description', 'C1) Funding FY2008','C2) Funding FY2009', 'C3) Funding FY2010', '%growth', 'target'})\n",
    "y = df[\"target\"]"
   ]
  },
  {
   "cell_type": "code",
   "execution_count": 5,
   "metadata": {},
   "outputs": [
    {
     "data": {
      "text/plain": [
       "(252, 250)"
      ]
     },
     "execution_count": 5,
     "metadata": {},
     "output_type": "execute_result"
    }
   ],
   "source": [
    "#changing categorical variables into numeric values\n",
    "for i in X.columns: \n",
    "    if X[i].dtype == 'object': \n",
    "        lbl = LabelEncoder() \n",
    "        lbl.fit(list(X[i].values)) \n",
    "        X[i] = lbl.transform(list(X[i].values))\n",
    "X.fillna(0, inplace=True) \n",
    "X = X.astype(float)\n",
    "X.shape"
   ]
  },
  {
   "cell_type": "code",
   "execution_count": 6,
   "metadata": {},
   "outputs": [
    {
     "data": {
      "text/plain": [
       "XGBClassifier(base_score=0.5, booster='gbtree', colsample_bylevel=1,\n",
       "       colsample_bytree=1, gamma=0, learning_rate=0.1, max_delta_step=0,\n",
       "       max_depth=3, min_child_weight=1, missing=None, n_estimators=100,\n",
       "       n_jobs=1, nthread=None, objective='binary:logistic', random_state=0,\n",
       "       reg_alpha=0, reg_lambda=1, scale_pos_weight=1, seed=None,\n",
       "       silent=True, subsample=1)"
      ]
     },
     "execution_count": 6,
     "metadata": {},
     "output_type": "execute_result"
    }
   ],
   "source": [
    "#train data and apply XGBoost model\n",
    "X_train, X_test, y_train, y_test = train_test_split(X, y, test_size = 0.30, random_state = 0)\n",
    "model = XGBClassifier()\n",
    "model.fit(X_train, y_train)"
   ]
  },
  {
   "cell_type": "code",
   "execution_count": 7,
   "metadata": {},
   "outputs": [
    {
     "name": "stdout",
     "output_type": "stream",
     "text": [
      "Accuracy: 77.63%\n",
      "ROC_AUC_score : 0.605263\n"
     ]
    },
    {
     "name": "stderr",
     "output_type": "stream",
     "text": [
      "C:\\Users\\Administrator\\Anaconda3\\lib\\site-packages\\sklearn\\preprocessing\\label.py:151: DeprecationWarning: The truth value of an empty array is ambiguous. Returning False, but in future this will result in an error. Use `array.size > 0` to check that an array is not empty.\n",
      "  if diff:\n"
     ]
    }
   ],
   "source": [
    "y_pred = model.predict(X_test)\n",
    "predictions = [round(value) for value in y_pred]\n",
    "accuracy = accuracy_score(y_test, predictions)\n",
    "print(\"Accuracy: %.2f%%\" % (accuracy * 100.0))\n",
    "print(\"ROC_AUC_score : %.6f\" % (roc_auc_score(y_test, predictions)))"
   ]
  },
  {
   "cell_type": "markdown",
   "metadata": {},
   "source": [
    "##  Applying feature selection methods"
   ]
  },
  {
   "cell_type": "markdown",
   "metadata": {},
   "source": [
    "### Univariate feature selection"
   ]
  },
  {
   "cell_type": "code",
   "execution_count": 8,
   "metadata": {},
   "outputs": [],
   "source": [
    "X1 = X"
   ]
  },
  {
   "cell_type": "code",
   "execution_count": 9,
   "metadata": {},
   "outputs": [],
   "source": [
    "for i in X1.columns: \n",
    "    if X1[i].dtype == 'object': \n",
    "        lbl = LabelEncoder() \n",
    "        lbl.fit(list(X1[i].values)) \n",
    "        X1[i] = lbl.transform(list(X1[i].values))\n",
    "X1.fillna(0, inplace=True) \n",
    "X1 = X1.astype(float)"
   ]
  },
  {
   "cell_type": "code",
   "execution_count": 10,
   "metadata": {},
   "outputs": [
    {
     "data": {
      "text/plain": [
       "(252, 30)"
      ]
     },
     "execution_count": 10,
     "metadata": {},
     "output_type": "execute_result"
    }
   ],
   "source": [
    "X1_new = SelectKBest(chi2, k=30).fit_transform(X1, y)\n",
    "X1_new.shape"
   ]
  },
  {
   "cell_type": "code",
   "execution_count": 11,
   "metadata": {},
   "outputs": [
    {
     "name": "stdout",
     "output_type": "stream",
     "text": [
      "Accuracy: 78.95%\n",
      "ROC_AUC_score : 0.649123\n"
     ]
    },
    {
     "name": "stderr",
     "output_type": "stream",
     "text": [
      "C:\\Users\\Administrator\\Anaconda3\\lib\\site-packages\\sklearn\\preprocessing\\label.py:151: DeprecationWarning: The truth value of an empty array is ambiguous. Returning False, but in future this will result in an error. Use `array.size > 0` to check that an array is not empty.\n",
      "  if diff:\n"
     ]
    }
   ],
   "source": [
    "X1_train, X1_test, y1_train, y1_test = train_test_split(X1_new, y, test_size = 0.30, random_state = 0)\n",
    "model = XGBClassifier()\n",
    "model.fit(X1_train, y1_train)\n",
    "y1_pred = model.predict(X1_test)\n",
    "predictions = [round(value) for value in y1_pred]\n",
    "accuracy = accuracy_score(y1_test, predictions)\n",
    "print(\"Accuracy: %.2f%%\" % (accuracy * 100.0))\n",
    "print(\"ROC_AUC_score : %.6f\" % (roc_auc_score(y1_test, predictions)))"
   ]
  },
  {
   "cell_type": "markdown",
   "metadata": {},
   "source": [
    "### PCA"
   ]
  },
  {
   "cell_type": "code",
   "execution_count": 12,
   "metadata": {},
   "outputs": [],
   "source": [
    "X3 = X\n",
    "for i in X3.columns: \n",
    "    if X3[i].dtype == 'object': \n",
    "        lbl = LabelEncoder() \n",
    "        lbl.fit(list(X3[i].values)) \n",
    "        X3[i] = lbl.transform(list(X3[i].values))\n",
    "X3.fillna(0, inplace=True) \n",
    "X3 = X3.astype(float)"
   ]
  },
  {
   "cell_type": "code",
   "execution_count": 16,
   "metadata": {},
   "outputs": [],
   "source": [
    "X3 = StandardScaler().fit_transform(X3)\n",
    "pca = PCA(n_components=2)\n",
    "principalComponents = pca.fit_transform(X3)"
   ]
  },
  {
   "cell_type": "code",
   "execution_count": 17,
   "metadata": {},
   "outputs": [
    {
     "data": {
      "text/html": [
       "<div>\n",
       "<style scoped>\n",
       "    .dataframe tbody tr th:only-of-type {\n",
       "        vertical-align: middle;\n",
       "    }\n",
       "\n",
       "    .dataframe tbody tr th {\n",
       "        vertical-align: top;\n",
       "    }\n",
       "\n",
       "    .dataframe thead th {\n",
       "        text-align: right;\n",
       "    }\n",
       "</style>\n",
       "<table border=\"1\" class=\"dataframe\">\n",
       "  <thead>\n",
       "    <tr style=\"text-align: right;\">\n",
       "      <th></th>\n",
       "      <th>PCA_comp_1</th>\n",
       "      <th>PCA_comp_2</th>\n",
       "      <th>target</th>\n",
       "    </tr>\n",
       "  </thead>\n",
       "  <tbody>\n",
       "    <tr>\n",
       "      <th>0</th>\n",
       "      <td>6.004952</td>\n",
       "      <td>-1.229289</td>\n",
       "      <td>1</td>\n",
       "    </tr>\n",
       "    <tr>\n",
       "      <th>1</th>\n",
       "      <td>2.999130</td>\n",
       "      <td>2.055753</td>\n",
       "      <td>1</td>\n",
       "    </tr>\n",
       "    <tr>\n",
       "      <th>2</th>\n",
       "      <td>3.143649</td>\n",
       "      <td>-0.704283</td>\n",
       "      <td>1</td>\n",
       "    </tr>\n",
       "    <tr>\n",
       "      <th>3</th>\n",
       "      <td>11.799867</td>\n",
       "      <td>3.642280</td>\n",
       "      <td>1</td>\n",
       "    </tr>\n",
       "    <tr>\n",
       "      <th>4</th>\n",
       "      <td>8.741898</td>\n",
       "      <td>1.601919</td>\n",
       "      <td>1</td>\n",
       "    </tr>\n",
       "  </tbody>\n",
       "</table>\n",
       "</div>"
      ],
      "text/plain": [
       "   PCA_comp_1  PCA_comp_2  target\n",
       "0    6.004952   -1.229289       1\n",
       "1    2.999130    2.055753       1\n",
       "2    3.143649   -0.704283       1\n",
       "3   11.799867    3.642280       1\n",
       "4    8.741898    1.601919       1"
      ]
     },
     "execution_count": 17,
     "metadata": {},
     "output_type": "execute_result"
    }
   ],
   "source": [
    "principalDf = pd.DataFrame(data = principalComponents, columns = ['PCA_comp_1', 'PCA_comp_2'])\n",
    "finalDf = pd.concat([principalDf, df[['target']]], axis = 1)\n",
    "finalDf.head()"
   ]
  },
  {
   "cell_type": "code",
   "execution_count": 18,
   "metadata": {},
   "outputs": [
    {
     "name": "stdout",
     "output_type": "stream",
     "text": [
      "Accuracy: 75.00%\n",
      "ROC_AUC_score : 0.517544\n"
     ]
    },
    {
     "name": "stderr",
     "output_type": "stream",
     "text": [
      "C:\\Users\\Administrator\\Anaconda3\\lib\\site-packages\\sklearn\\preprocessing\\label.py:151: DeprecationWarning: The truth value of an empty array is ambiguous. Returning False, but in future this will result in an error. Use `array.size > 0` to check that an array is not empty.\n",
      "  if diff:\n"
     ]
    }
   ],
   "source": [
    "X4 = finalDf.drop(columns = 'target')\n",
    "y4 = finalDf['target']\n",
    "X4_train, X4_test, y4_train, y4_test = train_test_split(X4, y4, test_size = 0.30, random_state = 0)\n",
    "model = XGBClassifier()\n",
    "model.fit(X4_train, y4_train)\n",
    "y4_pred = model.predict(X4_test)\n",
    "predictions = [round(value) for value in y4_pred]\n",
    "accuracy = accuracy_score(y4_test, predictions)\n",
    "print(\"Accuracy: %.2f%%\" % (accuracy * 100.0))\n",
    "print(\"ROC_AUC_score : %.6f\" % (roc_auc_score(y4_test, predictions)))"
   ]
  },
  {
   "cell_type": "markdown",
   "metadata": {},
   "source": [
    "### Feature Importance XGBoost"
   ]
  },
  {
   "cell_type": "code",
   "execution_count": 21,
   "metadata": {},
   "outputs": [],
   "source": [
    "X5 = X\n",
    "for i in X5.columns: \n",
    "    if X5[i].dtype == 'object': \n",
    "        lbl = LabelEncoder() \n",
    "        lbl.fit(list(X5[i].values)) \n",
    "        X5[i] = lbl.transform(list(X5[i].values))\n",
    "X5.fillna(0, inplace=True) \n",
    "X5 = X5.astype(float)"
   ]
  },
  {
   "cell_type": "code",
   "execution_count": 22,
   "metadata": {},
   "outputs": [
    {
     "data": {
      "text/plain": [
       "XGBClassifier(base_score=0.5, booster='gbtree', colsample_bylevel=1,\n",
       "       colsample_bytree=1, gamma=0, learning_rate=0.1, max_delta_step=0,\n",
       "       max_depth=3, min_child_weight=1, missing=None, n_estimators=100,\n",
       "       n_jobs=1, nthread=None, objective='binary:logistic', random_state=0,\n",
       "       reg_alpha=0, reg_lambda=1, scale_pos_weight=1, seed=None,\n",
       "       silent=True, subsample=1)"
      ]
     },
     "execution_count": 22,
     "metadata": {},
     "output_type": "execute_result"
    }
   ],
   "source": [
    "X5_train, X5_test, y5_train, y5_test = train_test_split(X5, y, test_size = 0.30, random_state = 0)\n",
    "model = XGBClassifier()\n",
    "model.fit(X5, y)"
   ]
  },
  {
   "cell_type": "code",
   "execution_count": 23,
   "metadata": {},
   "outputs": [
    {
     "data": {
      "image/png": "[encoded data removed]",
      "text/plain": [
       "<matplotlib.figure.Figure at 0xbc7c160>"
      ]
     },
     "metadata": {},
     "output_type": "display_data"
    }
   ],
   "source": [
    "plt.figure(figsize = [15,6])\n",
    "plt.bar(range(len(model.feature_importances_)), model.feature_importances_)\n",
    "plt.show()"
   ]
  },
  {
   "cell_type": "code",
   "execution_count": 24,
   "metadata": {},
   "outputs": [
    {
     "data": {
      "image/png": "[encoded data removed]",
      "text/plain": [
       "<matplotlib.figure.Figure at 0xcdcbfd0>"
      ]
     },
     "metadata": {},
     "output_type": "display_data"
    }
   ],
   "source": [
    "plot_importance(model, max_num_features=20)\n",
    "plt.show()"
   ]
  },
  {
   "cell_type": "code",
   "execution_count": 25,
   "metadata": {},
   "outputs": [
    {
     "name": "stdout",
     "output_type": "stream",
     "text": [
      "Accuracy: 78.95%\n"
     ]
    },
    {
     "name": "stderr",
     "output_type": "stream",
     "text": [
      "C:\\Users\\Administrator\\Anaconda3\\lib\\site-packages\\sklearn\\preprocessing\\label.py:151: DeprecationWarning: The truth value of an empty array is ambiguous. Returning False, but in future this will result in an error. Use `array.size > 0` to check that an array is not empty.\n",
      "  if diff:\n"
     ]
    }
   ],
   "source": [
    "selection = SelectFromModel(model, prefit=True)\n",
    "select_X5_train = selection.transform(X5_train)\n",
    "selection_model = XGBClassifier()\n",
    "selection_model.fit(select_X5_train, y5_train)\n",
    "# eval model\n",
    "select_X5_test = selection.transform(X5_test)\n",
    "y5_pred = selection_model.predict(select_X5_test)\n",
    "predictions = [round(value) for value in y5_pred]\n",
    "accuracy = accuracy_score(y5_test, predictions)\n",
    "print(\"Accuracy: %.2f%%\" % (accuracy * 100.0))"
   ]
  },
  {
   "cell_type": "code",
   "execution_count": 26,
   "metadata": {},
   "outputs": [
    {
     "data": {
      "text/plain": [
       "48"
      ]
     },
     "execution_count": 26,
     "metadata": {},
     "output_type": "execute_result"
    }
   ],
   "source": [
    "imp = pd.Series(model.feature_importances_, index = X5.columns)\n",
    "imp = imp.loc[imp >= 0.0075]\n",
    "len(imp)"
   ]
  },
  {
   "cell_type": "code",
   "execution_count": 27,
   "metadata": {
    "scrolled": false
   },
   "outputs": [],
   "source": [
    "X6 = X5[imp.index]"
   ]
  },
  {
   "cell_type": "code",
   "execution_count": 28,
   "metadata": {},
   "outputs": [
    {
     "name": "stderr",
     "output_type": "stream",
     "text": [
      "C:\\Users\\Administrator\\Anaconda3\\lib\\site-packages\\sklearn\\preprocessing\\label.py:151: DeprecationWarning: The truth value of an empty array is ambiguous. Returning False, but in future this will result in an error. Use `array.size > 0` to check that an array is not empty.\n",
      "  if diff:\n"
     ]
    },
    {
     "name": "stdout",
     "output_type": "stream",
     "text": [
      "Accuracy: 80.26%\n",
      "ROC_AUC_score : 0.657895\n"
     ]
    }
   ],
   "source": [
    "X6_train, X6_test, y6_train, y6_test = train_test_split(X6, y, test_size = 0.30, random_state = 0)\n",
    "model1 = XGBClassifier()\n",
    "model1.fit(X6_train, y6_train)\n",
    "y6_pred = model1.predict(X6_test)\n",
    "predictions = [round(value) for value in y6_pred]\n",
    "accuracy = accuracy_score(y6_test, predictions)\n",
    "print(\"Accuracy: %.2f%%\" % (accuracy * 100.0))\n",
    "print(\"ROC_AUC_score : %.6f\" % (roc_auc_score(y6_test, predictions)))"
   ]
  },
  {
   "cell_type": "markdown",
   "metadata": {},
   "source": [
    "## Trying another way"
   ]
  },
  {
   "cell_type": "code",
   "execution_count": 29,
   "metadata": {},
   "outputs": [
    {
     "data": {
      "text/html": [
       "<div>\n",
       "<style scoped>\n",
       "    .dataframe tbody tr th:only-of-type {\n",
       "        vertical-align: middle;\n",
       "    }\n",
       "\n",
       "    .dataframe tbody tr th {\n",
       "        vertical-align: top;\n",
       "    }\n",
       "\n",
       "    .dataframe thead th {\n",
       "        text-align: right;\n",
       "    }\n",
       "</style>\n",
       "<table border=\"1\" class=\"dataframe\">\n",
       "  <thead>\n",
       "    <tr style=\"text-align: right;\">\n",
       "      <th></th>\n",
       "      <th>1</th>\n",
       "      <th>2</th>\n",
       "      <th>3</th>\n",
       "      <th>4</th>\n",
       "      <th>5</th>\n",
       "      <th>6</th>\n",
       "      <th>7</th>\n",
       "      <th>8</th>\n",
       "      <th>9</th>\n",
       "      <th>10</th>\n",
       "      <th>...</th>\n",
       "      <th>246</th>\n",
       "      <th>247</th>\n",
       "      <th>248</th>\n",
       "      <th>249</th>\n",
       "      <th>250</th>\n",
       "      <th>251</th>\n",
       "      <th>252</th>\n",
       "      <th>253</th>\n",
       "      <th>254</th>\n",
       "      <th>255</th>\n",
       "    </tr>\n",
       "  </thead>\n",
       "  <tbody>\n",
       "    <tr>\n",
       "      <th>1</th>\n",
       "      <td>Investment Name</td>\n",
       "      <td>Agency</td>\n",
       "      <td>Subagency</td>\n",
       "      <td>A) Brief Description</td>\n",
       "      <td>B) Year Established</td>\n",
       "      <td>C1) Funding FY2008</td>\n",
       "      <td>C2) Funding FY2009</td>\n",
       "      <td>C3) Funding FY2010</td>\n",
       "      <td>D) Mission-specific or General STEM?</td>\n",
       "      <td>E) Agency or Mission-Related Workforce Needs?</td>\n",
       "      <td>...</td>\n",
       "      <td>Y2) Summative Evaluation Type</td>\n",
       "      <td>Y2) Summative Evaluation Type</td>\n",
       "      <td>Y3) Process or Implementation Evaluation Type</td>\n",
       "      <td>Y3) Process or Implementation Evaluation Type</td>\n",
       "      <td>Y3) Process or Implementation Evaluation Type</td>\n",
       "      <td>Y4) Portfolio Evaluation/Review Type</td>\n",
       "      <td>Y4) Portfolio Evaluation/Review Type</td>\n",
       "      <td>Y4) Portfolio Evaluation/Review Type</td>\n",
       "      <td>Y5) Expert Review Type</td>\n",
       "      <td>Y5) Expert Review Type</td>\n",
       "    </tr>\n",
       "  </tbody>\n",
       "</table>\n",
       "<p>1 rows × 255 columns</p>\n",
       "</div>"
      ],
      "text/plain": [
       "               1       2          3                     4    \\\n",
       "1  Investment Name  Agency  Subagency  A) Brief Description   \n",
       "\n",
       "                   5                   6                   7    \\\n",
       "1  B) Year Established  C1) Funding FY2008  C2) Funding FY2009   \n",
       "\n",
       "                  8                                     9    \\\n",
       "1  C3) Funding FY2010  D) Mission-specific or General STEM?   \n",
       "\n",
       "                                             10            ...            \\\n",
       "1  E) Agency or Mission-Related Workforce Needs?           ...             \n",
       "\n",
       "                             246                            247  \\\n",
       "1  Y2) Summative Evaluation Type  Y2) Summative Evaluation Type   \n",
       "\n",
       "                                             248  \\\n",
       "1  Y3) Process or Implementation Evaluation Type   \n",
       "\n",
       "                                             249  \\\n",
       "1  Y3) Process or Implementation Evaluation Type   \n",
       "\n",
       "                                             250  \\\n",
       "1  Y3) Process or Implementation Evaluation Type   \n",
       "\n",
       "                                    251                                   252  \\\n",
       "1  Y4) Portfolio Evaluation/Review Type  Y4) Portfolio Evaluation/Review Type   \n",
       "\n",
       "                                    253                     254  \\\n",
       "1  Y4) Portfolio Evaluation/Review Type  Y5) Expert Review Type   \n",
       "\n",
       "                      255  \n",
       "1  Y5) Expert Review Type  \n",
       "\n",
       "[1 rows x 255 columns]"
      ]
     },
     "execution_count": 29,
     "metadata": {},
     "output_type": "execute_result"
    }
   ],
   "source": [
    "#Regenerating headers\n",
    "header = pd.read_excel(r'''C:\\Users\\Administrator\\Downloads\\2010 Federal STEM Education Inventory Data Set.xls''', index = [0],\n",
    "                       header=None).iloc[1:2, 1:].ffill(axis=1)\n",
    "header.head()"
   ]
  },
  {
   "cell_type": "code",
   "execution_count": 30,
   "metadata": {},
   "outputs": [
    {
     "data": {
      "text/html": [
       "<div>\n",
       "<style scoped>\n",
       "    .dataframe tbody tr th:only-of-type {\n",
       "        vertical-align: middle;\n",
       "    }\n",
       "\n",
       "    .dataframe tbody tr th {\n",
       "        vertical-align: top;\n",
       "    }\n",
       "\n",
       "    .dataframe thead th {\n",
       "        text-align: right;\n",
       "    }\n",
       "</style>\n",
       "<table border=\"1\" class=\"dataframe\">\n",
       "  <thead>\n",
       "    <tr style=\"text-align: right;\">\n",
       "      <th></th>\n",
       "      <th>Investment Name</th>\n",
       "      <th>Agency</th>\n",
       "      <th>Subagency</th>\n",
       "      <th>A) Brief Description</th>\n",
       "      <th>B) Year Established</th>\n",
       "      <th>C1) Funding FY2008</th>\n",
       "      <th>C2) Funding FY2009</th>\n",
       "      <th>C3) Funding FY2010</th>\n",
       "      <th>D) Mission-specific or General STEM?</th>\n",
       "      <th>E) Agency or Mission-Related Workforce Needs?</th>\n",
       "      <th>...</th>\n",
       "      <th>Y2) Summative Evaluation Type</th>\n",
       "      <th>Y2) Summative Evaluation Type</th>\n",
       "      <th>Y3) Process or Implementation Evaluation Type</th>\n",
       "      <th>Y3) Process or Implementation Evaluation Type</th>\n",
       "      <th>Y3) Process or Implementation Evaluation Type</th>\n",
       "      <th>Y4) Portfolio Evaluation/Review Type</th>\n",
       "      <th>Y4) Portfolio Evaluation/Review Type</th>\n",
       "      <th>Y4) Portfolio Evaluation/Review Type</th>\n",
       "      <th>Y5) Expert Review Type</th>\n",
       "      <th>Y5) Expert Review Type</th>\n",
       "    </tr>\n",
       "  </thead>\n",
       "  <tbody>\n",
       "    <tr>\n",
       "      <th>0</th>\n",
       "      <td>31.0</td>\n",
       "      <td>10.0</td>\n",
       "      <td>12.0</td>\n",
       "      <td>92.0</td>\n",
       "      <td>2002.0</td>\n",
       "      <td>5.24</td>\n",
       "      <td>7.19</td>\n",
       "      <td>5.70</td>\n",
       "      <td>1.0</td>\n",
       "      <td>2.0</td>\n",
       "      <td>...</td>\n",
       "      <td>1.0</td>\n",
       "      <td>1.0</td>\n",
       "      <td>1.0</td>\n",
       "      <td>1.0</td>\n",
       "      <td>0.0</td>\n",
       "      <td>0.0</td>\n",
       "      <td>1.0</td>\n",
       "      <td>1.0</td>\n",
       "      <td>0.0</td>\n",
       "      <td>1.0</td>\n",
       "    </tr>\n",
       "    <tr>\n",
       "      <th>1</th>\n",
       "      <td>23.0</td>\n",
       "      <td>10.0</td>\n",
       "      <td>9.0</td>\n",
       "      <td>76.0</td>\n",
       "      <td>2006.0</td>\n",
       "      <td>14.00</td>\n",
       "      <td>14.00</td>\n",
       "      <td>14.00</td>\n",
       "      <td>1.0</td>\n",
       "      <td>2.0</td>\n",
       "      <td>...</td>\n",
       "      <td>1.0</td>\n",
       "      <td>1.0</td>\n",
       "      <td>1.0</td>\n",
       "      <td>1.0</td>\n",
       "      <td>0.0</td>\n",
       "      <td>1.0</td>\n",
       "      <td>1.0</td>\n",
       "      <td>0.0</td>\n",
       "      <td>1.0</td>\n",
       "      <td>1.0</td>\n",
       "    </tr>\n",
       "    <tr>\n",
       "      <th>2</th>\n",
       "      <td>26.0</td>\n",
       "      <td>10.0</td>\n",
       "      <td>9.0</td>\n",
       "      <td>240.0</td>\n",
       "      <td>2007.0</td>\n",
       "      <td>5.00</td>\n",
       "      <td>5.00</td>\n",
       "      <td>4.37</td>\n",
       "      <td>1.0</td>\n",
       "      <td>2.0</td>\n",
       "      <td>...</td>\n",
       "      <td>1.0</td>\n",
       "      <td>1.0</td>\n",
       "      <td>1.0</td>\n",
       "      <td>1.0</td>\n",
       "      <td>0.0</td>\n",
       "      <td>1.0</td>\n",
       "      <td>1.0</td>\n",
       "      <td>0.0</td>\n",
       "      <td>1.0</td>\n",
       "      <td>1.0</td>\n",
       "    </tr>\n",
       "    <tr>\n",
       "      <th>3</th>\n",
       "      <td>174.0</td>\n",
       "      <td>10.0</td>\n",
       "      <td>12.0</td>\n",
       "      <td>163.0</td>\n",
       "      <td>2002.0</td>\n",
       "      <td>4.57</td>\n",
       "      <td>11.79</td>\n",
       "      <td>4.18</td>\n",
       "      <td>1.0</td>\n",
       "      <td>2.0</td>\n",
       "      <td>...</td>\n",
       "      <td>1.0</td>\n",
       "      <td>0.0</td>\n",
       "      <td>0.0</td>\n",
       "      <td>1.0</td>\n",
       "      <td>1.0</td>\n",
       "      <td>0.0</td>\n",
       "      <td>1.0</td>\n",
       "      <td>1.0</td>\n",
       "      <td>0.0</td>\n",
       "      <td>1.0</td>\n",
       "    </tr>\n",
       "    <tr>\n",
       "      <th>4</th>\n",
       "      <td>72.0</td>\n",
       "      <td>10.0</td>\n",
       "      <td>12.0</td>\n",
       "      <td>107.0</td>\n",
       "      <td>1999.0</td>\n",
       "      <td>1.63</td>\n",
       "      <td>2.74</td>\n",
       "      <td>2.02</td>\n",
       "      <td>1.0</td>\n",
       "      <td>2.0</td>\n",
       "      <td>...</td>\n",
       "      <td>1.0</td>\n",
       "      <td>0.0</td>\n",
       "      <td>1.0</td>\n",
       "      <td>1.0</td>\n",
       "      <td>0.0</td>\n",
       "      <td>1.0</td>\n",
       "      <td>1.0</td>\n",
       "      <td>0.0</td>\n",
       "      <td>1.0</td>\n",
       "      <td>1.0</td>\n",
       "    </tr>\n",
       "  </tbody>\n",
       "</table>\n",
       "<p>5 rows × 255 columns</p>\n",
       "</div>"
      ],
      "text/plain": [
       "   Investment Name  Agency  Subagency  A) Brief Description  \\\n",
       "0             31.0    10.0       12.0                  92.0   \n",
       "1             23.0    10.0        9.0                  76.0   \n",
       "2             26.0    10.0        9.0                 240.0   \n",
       "3            174.0    10.0       12.0                 163.0   \n",
       "4             72.0    10.0       12.0                 107.0   \n",
       "\n",
       "   B) Year Established  C1) Funding FY2008  C2) Funding FY2009  \\\n",
       "0               2002.0                5.24                7.19   \n",
       "1               2006.0               14.00               14.00   \n",
       "2               2007.0                5.00                5.00   \n",
       "3               2002.0                4.57               11.79   \n",
       "4               1999.0                1.63                2.74   \n",
       "\n",
       "   C3) Funding FY2010  D) Mission-specific or General STEM?  \\\n",
       "0                5.70                                   1.0   \n",
       "1               14.00                                   1.0   \n",
       "2                4.37                                   1.0   \n",
       "3                4.18                                   1.0   \n",
       "4                2.02                                   1.0   \n",
       "\n",
       "   E) Agency or Mission-Related Workforce Needs?           ...            \\\n",
       "0                                            2.0           ...             \n",
       "1                                            2.0           ...             \n",
       "2                                            2.0           ...             \n",
       "3                                            2.0           ...             \n",
       "4                                            2.0           ...             \n",
       "\n",
       "   Y2) Summative Evaluation Type  Y2) Summative Evaluation Type  \\\n",
       "0                            1.0                            1.0   \n",
       "1                            1.0                            1.0   \n",
       "2                            1.0                            1.0   \n",
       "3                            1.0                            0.0   \n",
       "4                            1.0                            0.0   \n",
       "\n",
       "   Y3) Process or Implementation Evaluation Type  \\\n",
       "0                                            1.0   \n",
       "1                                            1.0   \n",
       "2                                            1.0   \n",
       "3                                            0.0   \n",
       "4                                            1.0   \n",
       "\n",
       "   Y3) Process or Implementation Evaluation Type  \\\n",
       "0                                            1.0   \n",
       "1                                            1.0   \n",
       "2                                            1.0   \n",
       "3                                            1.0   \n",
       "4                                            1.0   \n",
       "\n",
       "   Y3) Process or Implementation Evaluation Type  \\\n",
       "0                                            0.0   \n",
       "1                                            0.0   \n",
       "2                                            0.0   \n",
       "3                                            1.0   \n",
       "4                                            0.0   \n",
       "\n",
       "   Y4) Portfolio Evaluation/Review Type  Y4) Portfolio Evaluation/Review Type  \\\n",
       "0                                   0.0                                   1.0   \n",
       "1                                   1.0                                   1.0   \n",
       "2                                   1.0                                   1.0   \n",
       "3                                   0.0                                   1.0   \n",
       "4                                   1.0                                   1.0   \n",
       "\n",
       "   Y4) Portfolio Evaluation/Review Type  Y5) Expert Review Type  \\\n",
       "0                                   1.0                     0.0   \n",
       "1                                   0.0                     1.0   \n",
       "2                                   0.0                     1.0   \n",
       "3                                   1.0                     0.0   \n",
       "4                                   0.0                     1.0   \n",
       "\n",
       "   Y5) Expert Review Type  \n",
       "0                     1.0  \n",
       "1                     1.0  \n",
       "2                     1.0  \n",
       "3                     1.0  \n",
       "4                     1.0  \n",
       "\n",
       "[5 rows x 255 columns]"
      ]
     },
     "execution_count": 30,
     "metadata": {},
     "output_type": "execute_result"
    }
   ],
   "source": [
    "df1 = df.copy()\n",
    "for i in df1.columns: \n",
    "    if df1[i].dtype == 'object': \n",
    "        lbl = LabelEncoder() \n",
    "        lbl.fit(list(df1[i].values)) \n",
    "        df1[i] = lbl.transform(list(df1[i].values))\n",
    "df1.fillna(0, inplace=True) \n",
    "df1 = df1.astype(float)\n",
    "df1 = df1.drop(columns = {'Index Number', '%growth', 'target'})\n",
    "df1.columns = list(header.iloc[0])\n",
    "df1.head()"
   ]
  },
  {
   "cell_type": "code",
   "execution_count": 31,
   "metadata": {},
   "outputs": [
    {
     "data": {
      "text/html": [
       "<div>\n",
       "<style scoped>\n",
       "    .dataframe tbody tr th:only-of-type {\n",
       "        vertical-align: middle;\n",
       "    }\n",
       "\n",
       "    .dataframe tbody tr th {\n",
       "        vertical-align: top;\n",
       "    }\n",
       "\n",
       "    .dataframe thead th {\n",
       "        text-align: right;\n",
       "    }\n",
       "</style>\n",
       "<table border=\"1\" class=\"dataframe\">\n",
       "  <thead>\n",
       "    <tr style=\"text-align: right;\">\n",
       "      <th>A</th>\n",
       "      <th>Agency</th>\n",
       "      <th>B) Year Established</th>\n",
       "      <th>D) Mission-specific or General STEM?</th>\n",
       "      <th>E) Agency or Mission-Related Workforce Needs?</th>\n",
       "      <th>F1) Primary Investment Objective</th>\n",
       "      <th>F2) Secondary Investment Objectives</th>\n",
       "      <th>G1) Primary Research Approaches</th>\n",
       "      <th>G2) Secondary Research Approaches</th>\n",
       "      <th>G3) Research Approaches Not Used</th>\n",
       "      <th>H) Educational Services or Products Produced</th>\n",
       "      <th>...</th>\n",
       "      <th>T) Partnerships with What Organization Types?</th>\n",
       "      <th>U) Measured Outputs</th>\n",
       "      <th>V) Outcomes Measured</th>\n",
       "      <th>W) Measurement Instruments Used</th>\n",
       "      <th>X) Evaluated Since 2005?</th>\n",
       "      <th>Y1) Formative Evaluation Type</th>\n",
       "      <th>Y2) Summative Evaluation Type</th>\n",
       "      <th>Y3) Process or Implementation Evaluation Type</th>\n",
       "      <th>Y4) Portfolio Evaluation/Review Type</th>\n",
       "      <th>Y5) Expert Review Type</th>\n",
       "    </tr>\n",
       "  </thead>\n",
       "  <tbody>\n",
       "    <tr>\n",
       "      <th>0</th>\n",
       "      <td>10.0</td>\n",
       "      <td>2002.0</td>\n",
       "      <td>1.0</td>\n",
       "      <td>2.0</td>\n",
       "      <td>2.0</td>\n",
       "      <td>12.0</td>\n",
       "      <td>3.0</td>\n",
       "      <td>5.0</td>\n",
       "      <td>2.0</td>\n",
       "      <td>44.0</td>\n",
       "      <td>...</td>\n",
       "      <td>35.0</td>\n",
       "      <td>25.0</td>\n",
       "      <td>44.0</td>\n",
       "      <td>12.0</td>\n",
       "      <td>1.0</td>\n",
       "      <td>3.0</td>\n",
       "      <td>2.0</td>\n",
       "      <td>2.0</td>\n",
       "      <td>2.0</td>\n",
       "      <td>1.0</td>\n",
       "    </tr>\n",
       "    <tr>\n",
       "      <th>1</th>\n",
       "      <td>10.0</td>\n",
       "      <td>2006.0</td>\n",
       "      <td>1.0</td>\n",
       "      <td>2.0</td>\n",
       "      <td>1.0</td>\n",
       "      <td>36.0</td>\n",
       "      <td>5.0</td>\n",
       "      <td>3.0</td>\n",
       "      <td>2.0</td>\n",
       "      <td>42.0</td>\n",
       "      <td>...</td>\n",
       "      <td>32.0</td>\n",
       "      <td>32.0</td>\n",
       "      <td>55.0</td>\n",
       "      <td>116.0</td>\n",
       "      <td>1.0</td>\n",
       "      <td>5.0</td>\n",
       "      <td>2.0</td>\n",
       "      <td>2.0</td>\n",
       "      <td>2.0</td>\n",
       "      <td>2.0</td>\n",
       "    </tr>\n",
       "    <tr>\n",
       "      <th>2</th>\n",
       "      <td>10.0</td>\n",
       "      <td>2007.0</td>\n",
       "      <td>1.0</td>\n",
       "      <td>2.0</td>\n",
       "      <td>2.0</td>\n",
       "      <td>38.0</td>\n",
       "      <td>2.0</td>\n",
       "      <td>3.0</td>\n",
       "      <td>5.0</td>\n",
       "      <td>53.0</td>\n",
       "      <td>...</td>\n",
       "      <td>34.0</td>\n",
       "      <td>95.0</td>\n",
       "      <td>63.0</td>\n",
       "      <td>110.0</td>\n",
       "      <td>1.0</td>\n",
       "      <td>3.0</td>\n",
       "      <td>2.0</td>\n",
       "      <td>2.0</td>\n",
       "      <td>2.0</td>\n",
       "      <td>2.0</td>\n",
       "    </tr>\n",
       "    <tr>\n",
       "      <th>3</th>\n",
       "      <td>10.0</td>\n",
       "      <td>2002.0</td>\n",
       "      <td>1.0</td>\n",
       "      <td>2.0</td>\n",
       "      <td>1.0</td>\n",
       "      <td>34.0</td>\n",
       "      <td>4.0</td>\n",
       "      <td>3.0</td>\n",
       "      <td>3.0</td>\n",
       "      <td>46.0</td>\n",
       "      <td>...</td>\n",
       "      <td>31.0</td>\n",
       "      <td>93.0</td>\n",
       "      <td>18.0</td>\n",
       "      <td>73.0</td>\n",
       "      <td>1.0</td>\n",
       "      <td>2.0</td>\n",
       "      <td>2.0</td>\n",
       "      <td>2.0</td>\n",
       "      <td>2.0</td>\n",
       "      <td>1.0</td>\n",
       "    </tr>\n",
       "    <tr>\n",
       "      <th>4</th>\n",
       "      <td>10.0</td>\n",
       "      <td>1999.0</td>\n",
       "      <td>1.0</td>\n",
       "      <td>2.0</td>\n",
       "      <td>3.0</td>\n",
       "      <td>34.0</td>\n",
       "      <td>4.0</td>\n",
       "      <td>3.0</td>\n",
       "      <td>3.0</td>\n",
       "      <td>45.0</td>\n",
       "      <td>...</td>\n",
       "      <td>14.0</td>\n",
       "      <td>101.0</td>\n",
       "      <td>63.0</td>\n",
       "      <td>76.0</td>\n",
       "      <td>1.0</td>\n",
       "      <td>2.0</td>\n",
       "      <td>2.0</td>\n",
       "      <td>2.0</td>\n",
       "      <td>2.0</td>\n",
       "      <td>2.0</td>\n",
       "    </tr>\n",
       "  </tbody>\n",
       "</table>\n",
       "<p>5 rows × 43 columns</p>\n",
       "</div>"
      ],
      "text/plain": [
       "A  Agency  B) Year Established  D) Mission-specific or General STEM?  \\\n",
       "0    10.0               2002.0                                   1.0   \n",
       "1    10.0               2006.0                                   1.0   \n",
       "2    10.0               2007.0                                   1.0   \n",
       "3    10.0               2002.0                                   1.0   \n",
       "4    10.0               1999.0                                   1.0   \n",
       "\n",
       "A  E) Agency or Mission-Related Workforce Needs?  \\\n",
       "0                                            2.0   \n",
       "1                                            2.0   \n",
       "2                                            2.0   \n",
       "3                                            2.0   \n",
       "4                                            2.0   \n",
       "\n",
       "A  F1) Primary Investment Objective  F2) Secondary Investment Objectives  \\\n",
       "0                               2.0                                 12.0   \n",
       "1                               1.0                                 36.0   \n",
       "2                               2.0                                 38.0   \n",
       "3                               1.0                                 34.0   \n",
       "4                               3.0                                 34.0   \n",
       "\n",
       "A  G1) Primary Research Approaches  G2) Secondary Research Approaches  \\\n",
       "0                              3.0                                5.0   \n",
       "1                              5.0                                3.0   \n",
       "2                              2.0                                3.0   \n",
       "3                              4.0                                3.0   \n",
       "4                              4.0                                3.0   \n",
       "\n",
       "A  G3) Research Approaches Not Used  \\\n",
       "0                               2.0   \n",
       "1                               2.0   \n",
       "2                               5.0   \n",
       "3                               3.0   \n",
       "4                               3.0   \n",
       "\n",
       "A  H) Educational Services or Products Produced           ...            \\\n",
       "0                                          44.0           ...             \n",
       "1                                          42.0           ...             \n",
       "2                                          53.0           ...             \n",
       "3                                          46.0           ...             \n",
       "4                                          45.0           ...             \n",
       "\n",
       "A  T) Partnerships with What Organization Types?  U) Measured Outputs  \\\n",
       "0                                           35.0                 25.0   \n",
       "1                                           32.0                 32.0   \n",
       "2                                           34.0                 95.0   \n",
       "3                                           31.0                 93.0   \n",
       "4                                           14.0                101.0   \n",
       "\n",
       "A  V) Outcomes Measured  W) Measurement Instruments Used  \\\n",
       "0                  44.0                             12.0   \n",
       "1                  55.0                            116.0   \n",
       "2                  63.0                            110.0   \n",
       "3                  18.0                             73.0   \n",
       "4                  63.0                             76.0   \n",
       "\n",
       "A  X) Evaluated Since 2005?  Y1) Formative Evaluation Type  \\\n",
       "0                       1.0                            3.0   \n",
       "1                       1.0                            5.0   \n",
       "2                       1.0                            3.0   \n",
       "3                       1.0                            2.0   \n",
       "4                       1.0                            2.0   \n",
       "\n",
       "A  Y2) Summative Evaluation Type  \\\n",
       "0                            2.0   \n",
       "1                            2.0   \n",
       "2                            2.0   \n",
       "3                            2.0   \n",
       "4                            2.0   \n",
       "\n",
       "A  Y3) Process or Implementation Evaluation Type  \\\n",
       "0                                            2.0   \n",
       "1                                            2.0   \n",
       "2                                            2.0   \n",
       "3                                            2.0   \n",
       "4                                            2.0   \n",
       "\n",
       "A  Y4) Portfolio Evaluation/Review Type  Y5) Expert Review Type  \n",
       "0                                   2.0                     1.0  \n",
       "1                                   2.0                     2.0  \n",
       "2                                   2.0                     2.0  \n",
       "3                                   2.0                     1.0  \n",
       "4                                   2.0                     2.0  \n",
       "\n",
       "[5 rows x 43 columns]"
      ]
     },
     "execution_count": 31,
     "metadata": {},
     "output_type": "execute_result"
    }
   ],
   "source": [
    "X10 = df1.T\n",
    "X10.index.name = 'A'\n",
    "X10 = X10.pivot_table(index = 'A', aggfunc = sum)\n",
    "X10 = X10.T\n",
    "X10 = X10.drop(columns = {'Investment Name', 'A) Brief Description', 'C1) Funding FY2008','C2) Funding FY2009', 'C3) Funding FY2010'})\n",
    "X10.head()"
   ]
  },
  {
   "cell_type": "markdown",
   "metadata": {},
   "source": [
    "### Univariate feature selection"
   ]
  },
  {
   "cell_type": "code",
   "execution_count": 32,
   "metadata": {},
   "outputs": [
    {
     "data": {
      "text/plain": [
       "(252, 30)"
      ]
     },
     "execution_count": 32,
     "metadata": {},
     "output_type": "execute_result"
    }
   ],
   "source": [
    "X10_new = SelectKBest(chi2, k=30).fit_transform(X10, y)\n",
    "X10_new.shape"
   ]
  },
  {
   "cell_type": "code",
   "execution_count": 33,
   "metadata": {
    "scrolled": true
   },
   "outputs": [
    {
     "name": "stdout",
     "output_type": "stream",
     "text": [
      "Accuracy: 71.05%\n",
      "ROC_AUC_score : 0.543860\n"
     ]
    },
    {
     "name": "stderr",
     "output_type": "stream",
     "text": [
      "C:\\Users\\Administrator\\Anaconda3\\lib\\site-packages\\sklearn\\preprocessing\\label.py:151: DeprecationWarning: The truth value of an empty array is ambiguous. Returning False, but in future this will result in an error. Use `array.size > 0` to check that an array is not empty.\n",
      "  if diff:\n"
     ]
    }
   ],
   "source": [
    "X11_train, X11_test, y11_train, y11_test = train_test_split(X10_new, y, test_size = 0.30, random_state = 0)\n",
    "model = XGBClassifier()\n",
    "model.fit(X11_train, y11_train)\n",
    "y11_pred = model.predict(X11_test)\n",
    "predictions = [round(value) for value in y11_pred]\n",
    "accuracy = accuracy_score(y11_test, predictions)\n",
    "print(\"Accuracy: %.2f%%\" % (accuracy * 100.0))\n",
    "print(\"ROC_AUC_score : %.6f\" % (roc_auc_score(y11_test, predictions)))"
   ]
  },
  {
   "cell_type": "markdown",
   "metadata": {},
   "source": [
    "### Feature Importance XGBoost"
   ]
  },
  {
   "cell_type": "code",
   "execution_count": 34,
   "metadata": {},
   "outputs": [],
   "source": [
    "X12 = X10\n",
    "for i in X12.columns: \n",
    "    if X12[i].dtype == 'object': \n",
    "        lbl = LabelEncoder() \n",
    "        lbl.fit(list(X12[i].values)) \n",
    "        X12[i] = lbl.transform(list(X12[i].values))\n",
    "X12.fillna(0, inplace=True) \n",
    "X12 = X12.astype(float)"
   ]
  },
  {
   "cell_type": "code",
   "execution_count": 35,
   "metadata": {},
   "outputs": [
    {
     "data": {
      "text/plain": [
       "XGBClassifier(base_score=0.5, booster='gbtree', colsample_bylevel=1,\n",
       "       colsample_bytree=1, gamma=0, learning_rate=0.1, max_delta_step=0,\n",
       "       max_depth=3, min_child_weight=1, missing=None, n_estimators=100,\n",
       "       n_jobs=1, nthread=None, objective='binary:logistic', random_state=0,\n",
       "       reg_alpha=0, reg_lambda=1, scale_pos_weight=1, seed=None,\n",
       "       silent=True, subsample=1)"
      ]
     },
     "execution_count": 35,
     "metadata": {},
     "output_type": "execute_result"
    }
   ],
   "source": [
    "X12_train, X12_test, y12_train, y12_test = train_test_split(X12, y, test_size = 0.30, random_state = 0)\n",
    "model = XGBClassifier()\n",
    "model.fit(X12, y)"
   ]
  },
  {
   "cell_type": "code",
   "execution_count": 36,
   "metadata": {},
   "outputs": [
    {
     "data": {
      "image/png": "[encoded data removed]",
      "text/plain": [
       "<matplotlib.figure.Figure at 0xe1fb8d0>"
      ]
     },
     "metadata": {},
     "output_type": "display_data"
    }
   ],
   "source": [
    "plt.figure(figsize = [15,6])\n",
    "plt.bar(range(len(model.feature_importances_)), model.feature_importances_)\n",
    "plt.show()"
   ]
  },
  {
   "cell_type": "code",
   "execution_count": 37,
   "metadata": {},
   "outputs": [
    {
     "data": {
      "image/png": "[encoded data removed]",
      "text/plain": [
       "<matplotlib.figure.Figure at 0xc37f518>"
      ]
     },
     "metadata": {},
     "output_type": "display_data"
    }
   ],
   "source": [
    "plot_importance(model, max_num_features=20)\n",
    "plt.show()"
   ]
  },
  {
   "cell_type": "code",
   "execution_count": 49,
   "metadata": {},
   "outputs": [
    {
     "name": "stdout",
     "output_type": "stream",
     "text": [
      "Accuracy: 77.63%\n"
     ]
    },
    {
     "name": "stderr",
     "output_type": "stream",
     "text": [
      "C:\\Users\\Administrator\\Anaconda3\\lib\\site-packages\\sklearn\\preprocessing\\label.py:151: DeprecationWarning: The truth value of an empty array is ambiguous. Returning False, but in future this will result in an error. Use `array.size > 0` to check that an array is not empty.\n",
      "  if diff:\n"
     ]
    }
   ],
   "source": [
    "selection = SelectFromModel(model, prefit=True)\n",
    "select_X12_train = selection.transform(X12_train)\n",
    "selection_model = XGBClassifier()\n",
    "selection_model.fit(select_X12_train, y12_train)\n",
    "# eval model\n",
    "select_X12_test = selection.transform(X12_test)\n",
    "y12_pred = selection_model.predict(select_X12_test)\n",
    "predictions = [round(value) for value in y12_pred]\n",
    "accuracy = accuracy_score(y12_test, predictions)\n",
    "print(\"Accuracy: %.2f%%\" % (accuracy * 100.0))"
   ]
  },
  {
   "cell_type": "code",
   "execution_count": 68,
   "metadata": {},
   "outputs": [
    {
     "data": {
      "text/plain": [
       "31"
      ]
     },
     "execution_count": 68,
     "metadata": {},
     "output_type": "execute_result"
    }
   ],
   "source": [
    "imp1 = pd.Series(model.feature_importances_, index = X12.columns)\n",
    "imp1 = imp1[imp1 > 0.0]\n",
    "imp1.sort_values(ascending = False)\n",
    "len(imp1)"
   ]
  },
  {
   "cell_type": "code",
   "execution_count": 69,
   "metadata": {},
   "outputs": [
    {
     "data": {
      "text/plain": [
       "25"
      ]
     },
     "execution_count": 69,
     "metadata": {},
     "output_type": "execute_result"
    }
   ],
   "source": [
    "imp1 = imp1.loc[imp1 >= 0.0075]\n",
    "len(imp1)"
   ]
  },
  {
   "cell_type": "code",
   "execution_count": 70,
   "metadata": {
    "scrolled": false
   },
   "outputs": [],
   "source": [
    "X13 = X12[imp1.index]"
   ]
  },
  {
   "cell_type": "code",
   "execution_count": 71,
   "metadata": {},
   "outputs": [
    {
     "name": "stdout",
     "output_type": "stream",
     "text": [
      "Accuracy: 77.63%\n",
      "ROC_AUC_score : 0.622807\n"
     ]
    },
    {
     "name": "stderr",
     "output_type": "stream",
     "text": [
      "C:\\Users\\Administrator\\Anaconda3\\lib\\site-packages\\sklearn\\preprocessing\\label.py:151: DeprecationWarning: The truth value of an empty array is ambiguous. Returning False, but in future this will result in an error. Use `array.size > 0` to check that an array is not empty.\n",
      "  if diff:\n"
     ]
    }
   ],
   "source": [
    "X13_train, X13_test, y13_train, y13_test = train_test_split(X13, y, test_size = 0.30, random_state = 0)\n",
    "model1 = XGBClassifier()\n",
    "model1.fit(X13_train, y13_train)\n",
    "y13_pred = model1.predict(X13_test)\n",
    "predictions = [round(value) for value in y13_pred]\n",
    "accuracy = accuracy_score(y13_test, predictions)\n",
    "print(\"Accuracy: %.2f%%\" % (accuracy * 100.0))\n",
    "print(\"ROC_AUC_score : %.6f\" % (roc_auc_score(y13_test, predictions)))"
   ]
  },
  {
   "cell_type": "markdown",
   "metadata": {},
   "source": [
    "Thus, the best accuracy achieved was using feature importance XGBoost method with accuracy of 80.26% and roc-auc_score of 0.65."
   ]
  },
  {
   "cell_type": "code",
   "execution_count": null,
   "metadata": {},
   "outputs": [],
   "source": []
  }
 ],
 "metadata": {
  "kernelspec": {
   "display_name": "Python 3",
   "language": "python",
   "name": "python3"
  },
  "language_info": {
   "codemirror_mode": {
    "name": "ipython",
    "version": 3
   },
   "file_extension": ".py",
   "mimetype": "text/x-python",
   "name": "python",
   "nbconvert_exporter": "python",
   "pygments_lexer": "ipython3",
   "version": "3.6.4"
  }
 },
 "nbformat": 4,
 "nbformat_minor": 2
}
